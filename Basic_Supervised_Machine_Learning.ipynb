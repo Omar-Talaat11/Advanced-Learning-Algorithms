{
 "cells": [
  {
   "cell_type": "markdown",
   "metadata": {},
   "source": [
    "# This File contains the implementation of basic Machine Learning concepts as cost functions, learning algorithms, etc."
   ]
  },
  {
   "cell_type": "markdown",
   "metadata": {},
   "source": [
    "Importing some basic libraries"
   ]
  },
  {
   "cell_type": "code",
   "execution_count": 4,
   "metadata": {},
   "outputs": [],
   "source": [
    "import numpy as np\n",
    "import math, copy\n",
    "import matplotlib.pyplot as plt"
   ]
  },
  {
   "cell_type": "markdown",
   "metadata": {},
   "source": [
    "# 1 - Cost Functions"
   ]
  },
  {
   "cell_type": "markdown",
   "metadata": {},
   "source": [
    "Cost is computed to indicate how well our moderl performs on pridicting the correct outputs"
   ]
  },
  {
   "cell_type": "code",
   "execution_count": 5,
   "metadata": {},
   "outputs": [],
   "source": [
    "def compute_cost(x, y, w, b):\n",
    "    \"\"\"\n",
    "    This function computes total cost for a given dataset with known correct labels\n",
    "\n",
    "    Args:\n",
    "        x (array of size (m,)): Dataset of m examples\n",
    "        y (array of size (m,)): correct labels for our dataset\n",
    "        w, b (scaler): model parameters\n",
    "        \n",
    "    Returns:\n",
    "        cost (scaler): total cost for the model for the given dataset\n",
    "    \"\"\"\n",
    "    m = len(x)\n",
    "    \n",
    "    cost = 0\n",
    "    \n",
    "    for i in range(m):\n",
    "        f = w * x[i] + b\n",
    "        loss = f - y[i]\n",
    "        cost += loss**2\n",
    "    cost = cost / (2 * m)\n",
    "    \n",
    "    return cost\n",
    "\n",
    "def predict_element(x,w,b):\n",
    "    \"\"\"\n",
    "    Predicts the value of a new training example\n",
    "\n",
    "    Args:\n",
    "        x (scaler): example to predict its value\n",
    "        w, b (scaler): model parameters\n",
    "    \n",
    "    Return:\n",
    "        y (scaler): predicted value\n",
    "    \"\"\"\n",
    "    return (x*w+b)\n",
    "\n"
   ]
  },
  {
   "cell_type": "markdown",
   "metadata": {},
   "source": [
    "Example"
   ]
  },
  {
   "cell_type": "code",
   "execution_count": 6,
   "metadata": {},
   "outputs": [
    {
     "name": "stdout",
     "output_type": "stream",
     "text": [
      "Total cost = 42412.5 for the given dataset with model parameters : w = 50 , b = 100\n"
     ]
    }
   ],
   "source": [
    "x_train = [1.0, 1.7, 2.0, 2.5, 3.0, 3.2]\n",
    "y_train = [250, 300, 480,  430,   630, 730]\n",
    "\n",
    "\"model parameters to be tuned\"\n",
    "w = 50\n",
    "b = 100\n",
    "\n",
    "cost = compute_cost(x_train,y_train,w,b)\n",
    "print(f'Total cost = {cost} for the given dataset with model parameters : w = {w} , b = {b}')"
   ]
  },
  {
   "cell_type": "markdown",
   "metadata": {},
   "source": [
    "# 2 - Gradient Descent Algorithm"
   ]
  },
  {
   "cell_type": "markdown",
   "metadata": {},
   "source": [
    "Gradient Descent is used to find the optimum value for model parameters w & b to minimize cost"
   ]
  },
  {
   "cell_type": "code",
   "execution_count": 7,
   "metadata": {},
   "outputs": [],
   "source": [
    "def compute_gradient(x, y, w, b):\n",
    "    \"\"\"\n",
    "    Computes the gradient for linear regression \n",
    "\n",
    "    Args:\n",
    "        x (array(m,)): Dataset, m examples\n",
    "        y (array(m,)): target correct labels\n",
    "        w, b (scaler): model parameters\n",
    "        \n",
    "    Returns:\n",
    "        dj_dw (scalar): The gradient of the cost w.r.t. the parameters w\n",
    "        dj_db (scalar): The gradient of the cost w.r.t. the parameter b \n",
    "        \n",
    "    \"\"\"\n",
    "    \n",
    "    m = len(x)\n",
    "    cost_w = 0\n",
    "    cost_b = 0\n",
    "    \n",
    "    for i in range(m):\n",
    "        f = w * x[i] + b\n",
    "        loss = f - y[i]\n",
    "        cost_w += loss * x[i]\n",
    "        cost_b += loss\n",
    "    \n",
    "    dj_dw = cost_w / m\n",
    "    dj_db = cost_b / m\n",
    "    \n",
    "    return dj_dw, dj_db\n",
    "\n",
    "\n",
    "def gradient_descent(x, y, w_in, b_in, alpha, num_iters, gradient_function): \n",
    "    \"\"\"\n",
    "    Performs gradient descent to fit w,b. Updates w, b by taking \n",
    "    num_iters gradient steps with learning rate alpha\n",
    "    \n",
    "    Args:\n",
    "        x (array (m,))  : Data, m examples \n",
    "        y (array (m,))  : target values\n",
    "        w_in, b_in (scalar): initial values of model parameters  \n",
    "        alpha (float):     Learning rate\n",
    "        num_iters (int):   number of iterations to run gradient descent\n",
    "        cost_function:     function to call to produce cost\n",
    "        gradient_function: function to call to produce gradient\n",
    "      \n",
    "    Returns:\n",
    "        w (scalar): Updated value of parameter after running gradient descent\n",
    "        b (scalar): Updated value of parameter after running gradient descent\n",
    "      \"\"\"\n",
    "    \n",
    "    m = len(x)\n",
    "    w = w_in\n",
    "    b = b_in\n",
    "    \n",
    "    for i in range(num_iters):\n",
    "        dj_dw, dj_db = gradient_function(x, y, w, b)\n",
    "        w = w - alpha * dj_dw\n",
    "        b = b - alpha * dj_db\n",
    "        if i % math.ceil(num_iters/10) == 0:\n",
    "            print(f'Iteration {i}: cost = {compute_cost(x,y,w,b)}, w = {w}, b = {b}')\n",
    "    \n",
    "    return w, b\n",
    "    "
   ]
  },
  {
   "cell_type": "markdown",
   "metadata": {},
   "source": [
    "Example"
   ]
  },
  {
   "cell_type": "code",
   "execution_count": 8,
   "metadata": {},
   "outputs": [
    {
     "name": "stdout",
     "output_type": "stream",
     "text": [
      "Iteration 0: cost = 109412.86405939351, w = 11.701666666666668, b = 4.7\n",
      "Iteration 1000: cost = 1780.1184072331873, w = 197.44663545713004, b = 31.632492245930393\n",
      "Iteration 2000: cost = 1743.3524780932023, w = 204.4663126053129, b = 14.425576598661701\n",
      "Iteration 3000: cost = 1737.1444183892424, w = 207.35082432551891, b = 7.354945171404292\n",
      "Iteration 4000: cost = 1736.0961651235302, w = 208.5361221231761, b = 4.449495420562088\n",
      "Iteration 5000: cost = 1735.9191637798788, w = 209.02318232795508, b = 3.255593809154985\n",
      "Iteration 6000: cost = 1735.8892764647787, w = 209.22332413497463, b = 2.7649981424056778\n",
      "Iteration 7000: cost = 1735.8842298838592, w = 209.30556600676786, b = 2.5634035504113033\n",
      "Iteration 8000: cost = 1735.883377750475, w = 209.33936067254402, b = 2.4805647031164213\n",
      "Iteration 9000: cost = 1735.883233864678, w = 209.3532475091398, b = 2.4465247293588033\n",
      "Final w = 209.3589503186303 and final b = 2.4325457728079756\n"
     ]
    }
   ],
   "source": [
    "# Initialize w and b\n",
    "w_init = 0\n",
    "b_init = 0\n",
    "\n",
    "iterations = 10000\n",
    "\n",
    "alpha = 0.01\n",
    "\n",
    "w, b = gradient_descent(x_train, y_train, w_init, b_init, alpha, iterations, compute_gradient)\n",
    "print(f'Final w = {w} and final b = {b}')\n"
   ]
  },
  {
   "cell_type": "markdown",
   "metadata": {},
   "source": [
    "# 4 - Linear Regression with multiple features"
   ]
  },
  {
   "cell_type": "code",
   "execution_count": 9,
   "metadata": {},
   "outputs": [
    {
     "name": "stdout",
     "output_type": "stream",
     "text": [
      "X Shape: (3, 4), X Type:<class 'numpy.ndarray'>)\n",
      "[[2104    5    1   45]\n",
      " [1416    3    2   40]\n",
      " [ 852    2    1   35]]\n",
      "y Shape: (3,), y Type:<class 'numpy.ndarray'>)\n",
      "[460 232 178]\n"
     ]
    }
   ],
   "source": [
    "X_train = np.array([[2104, 5, 1, 45], [1416, 3, 2, 40], [852, 2, 1, 35]])\n",
    "y_train = np.array([460, 232, 178])\n",
    "print(f\"X Shape: {X_train.shape}, X Type:{type(X_train)})\")\n",
    "print(X_train)\n",
    "print(f\"y Shape: {y_train.shape}, y Type:{type(y_train)})\")\n",
    "print(y_train)"
   ]
  },
  {
   "cell_type": "markdown",
   "metadata": {},
   "source": [
    "Predict output value"
   ]
  },
  {
   "cell_type": "code",
   "execution_count": 10,
   "metadata": {},
   "outputs": [],
   "source": [
    "def predict_element_multiple_features(x, w, b):\n",
    "    \"\"\"\n",
    "    single predict using linear regression\n",
    "\n",
    "    Args:\n",
    "        x (array): features of signle example\n",
    "        w (array): model parameters\n",
    "        b (scaler): model parameter\n",
    "\n",
    "    Returns:\n",
    "        y_hat (scaler): prediction\n",
    "    \"\"\"\n",
    "    y_hat = np.dot(x,w)+b\n",
    "    \n",
    "    return y_hat"
   ]
  },
  {
   "cell_type": "markdown",
   "metadata": {},
   "source": [
    "Example"
   ]
  },
  {
   "cell_type": "code",
   "execution_count": 11,
   "metadata": {},
   "outputs": [
    {
     "name": "stdout",
     "output_type": "stream",
     "text": [
      "[2104    5    1   45]\n",
      "predicted value = 100 and correct value = 460\n"
     ]
    }
   ],
   "source": [
    "# get an example\n",
    "b_init = 100\n",
    "w_init = [0,0,0,0]\n",
    "x_example = X_train[0,:]\n",
    "print(x_example)\n",
    "\n",
    "#predict its value and compare it to correct one\n",
    "y_hat = predict_element_multiple_features(x_example,w_init,b_init)\n",
    "print(f'predicted value = {y_hat} and correct value = {y_train[0]}')"
   ]
  },
  {
   "cell_type": "markdown",
   "metadata": {},
   "source": [
    "Compute Cost"
   ]
  },
  {
   "cell_type": "code",
   "execution_count": 124,
   "metadata": {},
   "outputs": [],
   "source": [
    "def compute_cost_multiple_features(X, y, w, b): \n",
    "    \"\"\"\n",
    "    Computes Cost for dataset with multiple features\n",
    "\n",
    "    Args:\n",
    "        X (array (m,n)): Data, m examples with n features\n",
    "        y (array): target values\n",
    "        w (array): model parameters with size n\n",
    "        b (scalar): model parameter\n",
    "\n",
    "    Returns:\n",
    "        total_cost (scaler): total cost for the example\n",
    "    \"\"\"\n",
    "    \n",
    "    m = X.shape[0]\n",
    "    cost = 0\n",
    "    \n",
    "    for i in range(m):\n",
    "        f = np.dot(X[i],w) + b\n",
    "        loss = f - y[i]\n",
    "        cost += loss**2\n",
    "        \n",
    "    total_cost = cost/(2 * m)\n",
    "    \n",
    "    return total_cost"
   ]
  },
  {
   "cell_type": "code",
   "execution_count": 13,
   "metadata": {},
   "outputs": [
    {
     "name": "stdout",
     "output_type": "stream",
     "text": [
      "Cost at optimal w : 1.5578904428966628e-12\n"
     ]
    }
   ],
   "source": [
    "b_init = 785.1811367994083\n",
    "w_init = np.array([ 0.39133535, 18.75376741, -53.36032453, -26.42131618])\n",
    "# Compute and display cost using our pre-chosen optimal parameters. \n",
    "cost = compute_cost_multiple_features(X_train, y_train, w_init, b_init)\n",
    "print(f'Cost at optimal w : {cost}')"
   ]
  },
  {
   "cell_type": "markdown",
   "metadata": {},
   "source": [
    "Compute gradient with multiple features"
   ]
  },
  {
   "cell_type": "code",
   "execution_count": 14,
   "metadata": {},
   "outputs": [],
   "source": [
    "def compute_gradient_multiple_features(X, y, w, b): \n",
    "    \"\"\"\n",
    "    Computes the gradient for linear regression \n",
    "    Args:\n",
    "      X (ndarray (m,n)): Data, m examples with n features\n",
    "      y (ndarray (m,)) : target values\n",
    "      w (ndarray (n,)) : model parameters  \n",
    "      b (scalar)       : model parameter\n",
    "      \n",
    "    Returns:\n",
    "      dj_dw (ndarray (n,)): The gradient of the cost w.r.t. the parameters w. \n",
    "      dj_db (scalar):       The gradient of the cost w.r.t. the parameter b. \n",
    "    \"\"\"\n",
    "    m, n = X.shape\n",
    "    cost_b = 0\n",
    "    cost_w = np.zeros(n)\n",
    "    \n",
    "    for i in range(m):\n",
    "        f = np.dot(X[i],w) + b\n",
    "        loss = f - y[i]\n",
    "        cost_b += loss\n",
    "        \n",
    "        for j in range(n):\n",
    "            cost_w[j] += loss*X[i][j]\n",
    "    \n",
    "    dj_db = cost_b / m\n",
    "    dj_dw = cost_w / m\n",
    "    \n",
    "    return dj_db,dj_dw"
   ]
  },
  {
   "cell_type": "code",
   "execution_count": 15,
   "metadata": {},
   "outputs": [
    {
     "name": "stdout",
     "output_type": "stream",
     "text": [
      "dj_db at initial w,b: -1.6739251501955248e-06\n",
      "dj_dw at initial w,b: \n",
      " [-2.72623577e-03 -6.27197263e-06 -2.21745578e-06 -6.92403391e-05]\n"
     ]
    }
   ],
   "source": [
    "#Compute and display gradient \n",
    "tmp_dj_db, tmp_dj_dw = compute_gradient_multiple_features(X_train, y_train, w_init, b_init)\n",
    "print(f'dj_db at initial w,b: {tmp_dj_db}')\n",
    "print(f'dj_dw at initial w,b: \\n {tmp_dj_dw}')"
   ]
  },
  {
   "cell_type": "markdown",
   "metadata": {},
   "source": [
    "Gradient Descent With Multiple Variables"
   ]
  },
  {
   "cell_type": "code",
   "execution_count": 16,
   "metadata": {},
   "outputs": [],
   "source": [
    "def gradient_descent_multiple_features(X, y, w_in, b_in, gradient_function, alpha, num_iters): \n",
    "    \"\"\"\n",
    "    Performs batch gradient descent to learn w and b. Updates w and b by taking \n",
    "    num_iters gradient steps with learning rate alpha\n",
    "    \n",
    "    Args:\n",
    "      X (ndarray (m,n))   : Data, m examples with n features\n",
    "      y (ndarray (m,))    : target values\n",
    "      w_in (ndarray (n,)) : initial model parameters  \n",
    "      b_in (scalar)       : initial model parameter\n",
    "      gradient_function   : function to compute the gradient\n",
    "      alpha (float)       : Learning rate\n",
    "      num_iters (int)     : number of iterations to run gradient descent\n",
    "      \n",
    "    Returns:\n",
    "      w (ndarray (n,)) : Updated values of parameters \n",
    "      b (scalar)       : Updated value of parameter \n",
    "      \"\"\"\n",
    "    \n",
    "    m, n = X.shape\n",
    "    w = copy.deepcopy(w_in)\n",
    "    b = b_in\n",
    "    \n",
    "    for i in range(num_iters):\n",
    "      dj_db, dj_dw = gradient_function(X,y,w,b)\n",
    "      \n",
    "      b = b - alpha * dj_db\n",
    "      w = w - alpha * dj_dw\n",
    "    \n",
    "        \n",
    "    return w, b"
   ]
  },
  {
   "cell_type": "markdown",
   "metadata": {},
   "source": [
    "Example"
   ]
  },
  {
   "cell_type": "code",
   "execution_count": 17,
   "metadata": {},
   "outputs": [
    {
     "name": "stdout",
     "output_type": "stream",
     "text": [
      "b,w found by gradient descent: -0.002235407530932535,[ 0.20396569  0.00374919 -0.0112487  -0.0658614 ] \n"
     ]
    }
   ],
   "source": [
    "initial_w = np.zeros_like(w_init)\n",
    "initial_b = 0\n",
    "\n",
    "iterations = 1000\n",
    "alpha =  5.0e-7\n",
    "\n",
    "w_final, b_final = gradient_descent_multiple_features(X_train, y_train, initial_w, initial_b, compute_gradient_multiple_features, alpha, iterations)\n",
    "print(f\"b,w found by gradient descent: {b_final},{w_final} \")"
   ]
  },
  {
   "cell_type": "markdown",
   "metadata": {},
   "source": [
    "# 5 - Feature z-score scaling"
   ]
  },
  {
   "cell_type": "code",
   "execution_count": 37,
   "metadata": {},
   "outputs": [],
   "source": [
    "def zscore_normalize_features(X):\n",
    "    \"\"\"\n",
    "    computes  X, zcore normalized by column\n",
    "    \n",
    "    Args:\n",
    "      X (ndarray (m,n))     : input data, m examples, n features\n",
    "      \n",
    "    Returns:\n",
    "      X_norm (ndarray (m,n)): input normalized by column\n",
    "      mu (ndarray (n,))     : mean of each feature\n",
    "      sigma (ndarray (n,))  : standard deviation of each feature\n",
    "    \"\"\"\n",
    "    mu = np.mean(X,axis = 0)\n",
    "    sigma = np.std(X, axis = 0)\n",
    "    \n",
    "    X_norm = (X - mu)/sigma\n",
    "    \n",
    "    return (X_norm, mu, sigma)"
   ]
  },
  {
   "cell_type": "markdown",
   "metadata": {},
   "source": [
    "# 6 - Linear Regression using Scikit-Learn"
   ]
  },
  {
   "cell_type": "code",
   "execution_count": 18,
   "metadata": {},
   "outputs": [],
   "source": [
    "\n",
    "from sklearn.linear_model import SGDRegressor\n",
    "from sklearn.preprocessing import StandardScaler"
   ]
  },
  {
   "cell_type": "code",
   "execution_count": 41,
   "metadata": {},
   "outputs": [
    {
     "name": "stdout",
     "output_type": "stream",
     "text": [
      "number of iterations completed: 6, number of weight updates: 19.0\n",
      "model parameters: w: [-2.46658372e+11  1.56314886e+09 -1.04692109e+10 -1.43469481e+11], b:[-4.92118812e+09]\n",
      "\n",
      "Predicted Values are [-5.25432915e+14 -3.55028204e+14 -2.15186629e+14]\n",
      "Target Values are [460 232 178]\n"
     ]
    }
   ],
   "source": [
    "sgdr = SGDRegressor(max_iter=10000) # Create the regressor\n",
    "sgdr.fit(X_train,y_train) #Fit our model on the training data\n",
    "print(f\"number of iterations completed: {sgdr.n_iter_}, number of weight updates: {sgdr.t_}\")\n",
    "\n",
    "#Print parameters\n",
    "b_norm = sgdr.intercept_\n",
    "w_norm = sgdr.coef_\n",
    "print(f\"model parameters: w: {w_norm}, b:{b_norm}\")\n",
    "\n",
    "#Predict using our trained model\n",
    "y_predict = sgdr.predict(X_train)\n",
    "print(f\"\\nPredicted Values are {y_predict}\")\n",
    "print(f\"Target Values are {y_train}\")"
   ]
  },
  {
   "cell_type": "markdown",
   "metadata": {},
   "source": [
    "Results are bad because we have small dataset and no normalization was done to the data"
   ]
  },
  {
   "cell_type": "code",
   "execution_count": 42,
   "metadata": {},
   "outputs": [
    {
     "name": "stdout",
     "output_type": "stream",
     "text": [
      "Peak to Peak range by column in Raw        X:[1252    3    1   10]\n",
      "Peak to Peak range by column in Normalized X:[2.44549494 2.40535118 2.12132034 2.44948974]\n"
     ]
    }
   ],
   "source": [
    "scaler = StandardScaler()\n",
    "X_norm = scaler.fit_transform(X_train)\n",
    "print(f\"Peak to Peak range by column in Raw        X:{np.ptp(X_train,axis=0)}\")   \n",
    "print(f\"Peak to Peak range by column in Normalized X:{np.ptp(X_norm,axis=0)}\")"
   ]
  },
  {
   "cell_type": "code",
   "execution_count": 44,
   "metadata": {},
   "outputs": [
    {
     "name": "stdout",
     "output_type": "stream",
     "text": [
      "number of iterations completed: 1241, number of weight updates: 3724.0\n",
      "model parameters: w: [ 38.05310466  41.53929782 -30.94797831  36.34560915], b:[289.50724979]\n",
      "\n",
      "Predicted Values are [459.47954484 231.5661302  177.47607434]\n",
      "Target Values are [460 232 178]\n"
     ]
    }
   ],
   "source": [
    "sgdr = SGDRegressor(max_iter=10000) # Create the regressor\n",
    "sgdr.fit(X_norm,y_train) #Fit our model on the training data\n",
    "print(f\"number of iterations completed: {sgdr.n_iter_}, number of weight updates: {sgdr.t_}\")\n",
    "\n",
    "#Print parameters\n",
    "b_norm = sgdr.intercept_\n",
    "w_norm = sgdr.coef_\n",
    "print(f\"model parameters: w: {w_norm}, b:{b_norm}\")\n",
    "\n",
    "#Predict using our trained model\n",
    "y_predict = sgdr.predict(X_norm)\n",
    "print(f\"\\nPredicted Values are {y_predict}\")\n",
    "print(f\"Target Values are {y_train}\")"
   ]
  },
  {
   "cell_type": "markdown",
   "metadata": {},
   "source": [
    "# 7 - Classification"
   ]
  },
  {
   "cell_type": "code",
   "execution_count": 76,
   "metadata": {},
   "outputs": [
    {
     "data": {
      "image/png": "[encoded data removed]",
      "text/plain": [
       "<Figure size 400x400 with 1 Axes>"
      ]
     },
     "metadata": {},
     "output_type": "display_data"
    }
   ],
   "source": [
    "x_train = np.array([0., 1, 2, 3, 4, 5])\n",
    "y_train = np.array([0,  0, 0, 1, 1, 1])\n",
    "X_train2 = np.array([[0.5, 1.5], [1,1], [1.5, 0.5], [3, 0.5], [2, 2], [1, 2.5]])\n",
    "y_train2 = np.array([0, 0, 0, 1, 1, 1])\n",
    "\n",
    "fig,ax = plt.subplots(1,1,figsize=(4,4))\n",
    "ax.plot(x_train,y_train,'ro')\n",
    "\n",
    "ax.axis([-0.5, 6, -0.5, 2])\n",
    "ax.set_ylabel('$y$')\n",
    "ax.set_xlabel('$x$')\n",
    "plt.show()"
   ]
  },
  {
   "cell_type": "markdown",
   "metadata": {},
   "source": [
    "Using Linear Regression"
   ]
  },
  {
   "cell_type": "code",
   "execution_count": 75,
   "metadata": {},
   "outputs": [
    {
     "name": "stdout",
     "output_type": "stream",
     "text": [
      "Iteration 0: cost = 0.248502578125, w = 0.00075, b = 0.0\n",
      "Iteration 100: cost = 0.1362438489767599, w = 0.06776093613318816, b = -0.0021741802801548697\n",
      "Iteration 200: cost = 0.07623876852001882, w = 0.12151335306184356, b = -0.007943955807623098\n",
      "Iteration 300: cost = 0.046234863330786836, w = 0.16522411780705903, b = -0.016422731999675824\n",
      "Iteration 400: cost = 0.03339659942896589, w = 0.20131442890468046, b = -0.026942698530064233\n",
      "Iteration 500: cost = 0.03032147974369746, w = 0.23156102542425255, b = -0.03901086210355307\n",
      "Iteration 600: cost = 0.03270331581033984, w = 0.2572671092224632, b = -0.05226271572361478\n",
      "Iteration 700: cost = 0.038014949032464135, w = 0.27939823936606256, b = -0.06642588205976593\n",
      "Iteration 800: cost = 0.044767040192799444, w = 0.29867986945079505, b = -0.08129402070780373\n",
      "Iteration 900: cost = 0.05208534033472112, w = 0.3156651538772025, b = -0.09670860228810543\n",
      "Example 0: Predicted = 0 , True = 0\n",
      "Example 1: Predicted = 0 , True = 0\n",
      "Example 2: Predicted = 1 , True = 0\n",
      "Example 3: Predicted = 1 , True = 1\n",
      "Example 4: Predicted = 1 , True = 1\n",
      "Example 5: Predicted = 1 , True = 1\n"
     ]
    },
    {
     "data": {
      "image/png": "[encoded data removed]",
      "text/plain": [
       "<Figure size 500x300 with 1 Axes>"
      ]
     },
     "metadata": {},
     "output_type": "display_data"
    }
   ],
   "source": [
    "w = 0\n",
    "b = 0\n",
    "w, b = gradient_descent(x_train,y_train,w,b,0.001,1000,compute_gradient)\n",
    "\n",
    "for i in range(x_train.shape[0]):\n",
    "    y_hat = predict_element(x_train[i],w,b)\n",
    "    if y_hat >= 0.5:\n",
    "        y_hat = 1\n",
    "    else:\n",
    "        y_hat = 0\n",
    "    print(f\"Example {i}: Predicted = {y_hat} , True = {y_train[i]}\")\n",
    "\n",
    "z = np.arange(-1,7)\n",
    "fig,ax = plt.subplots(1,1,figsize=(5,3))\n",
    "ax.plot(z,predict_element(z,w,b))\n",
    "ax.plot(x_train,y_train,'ro')\n",
    "plt.show()"
   ]
  },
  {
   "cell_type": "markdown",
   "metadata": {},
   "source": [
    "Sigmoid Function"
   ]
  },
  {
   "cell_type": "code",
   "execution_count": 108,
   "metadata": {},
   "outputs": [
    {
     "data": {
      "text/plain": [
       "Text(0.5, 0, 'z')"
      ]
     },
     "execution_count": 108,
     "metadata": {},
     "output_type": "execute_result"
    },
    {
     "data": {
      "image/png": "[encoded data removed]",
      "text/plain": [
       "<Figure size 500x300 with 1 Axes>"
      ]
     },
     "metadata": {},
     "output_type": "display_data"
    }
   ],
   "source": [
    "def sigmoid(z):\n",
    "    \"\"\"\n",
    "    Compute the sigmoid of z\n",
    "\n",
    "    Args:\n",
    "        z (ndarray): A scalar, numpy array of any size.\n",
    "\n",
    "    Returns:\n",
    "        g (ndarray): sigmoid(z), with the same shape as z\n",
    "         \n",
    "    \"\"\"\n",
    "\n",
    "    g = 1/(1+np.exp(-z))\n",
    "   \n",
    "    return g\n",
    "\n",
    "# Plot sigmoid(z) over a range of values from -10 to 10\n",
    "z = np.arange(-10,11)\n",
    "\n",
    "fig,ax = plt.subplots(1,1,figsize=(5,3))\n",
    "# Plot z vs sigmoid(z)\n",
    "ax.plot(z, sigmoid(z), c=\"b\")\n",
    "ax.plot(np.zeros(2),np.arange(0,2),c=\"r\")\n",
    "\n",
    "ax.set_title(\"Sigmoid function\")\n",
    "ax.set_ylabel('sigmoid(z)')\n",
    "ax.set_xlabel('z')"
   ]
  },
  {
   "cell_type": "markdown",
   "metadata": {},
   "source": [
    "# 8 - Logistic Loss & Cost"
   ]
  },
  {
   "cell_type": "code",
   "execution_count": 94,
   "metadata": {},
   "outputs": [],
   "source": [
    "def compute_loss_logistic(x,y,w,b):\n",
    "    \"\"\"\n",
    "    Computes loss for one training example\n",
    "\n",
    "    Args:\n",
    "        x (array(1,n)): Data, 1 example with n features\n",
    "        y (scalar): target value\n",
    "        w (array(n,)): model parameters\n",
    "        b (scalar): model parameter\n",
    "    \n",
    "    Returns:\n",
    "        loss (scalar): loss\n",
    "    \"\"\"\n",
    "\n",
    "    f = sigmoid(np.dot(x,w)+b)\n",
    "    loss = -y*(np.log(f))-(1-y)*(np.log(1-f))\n",
    "    return loss\n",
    "        \n",
    "    \n",
    "\n",
    "def compute_cost_logistic(X, y, w, b):\n",
    "    \"\"\"\n",
    "    Computes cost\n",
    "\n",
    "    Args:\n",
    "      X (array (m,n)): Data, m examples with n features\n",
    "      y (ndarray (m,)) : target values\n",
    "      w (ndarray (n,)) : model parameters  \n",
    "      b (scalar)       : model parameter\n",
    "      \n",
    "    Returns:\n",
    "      cost (scalar): cost\n",
    "    \"\"\"\n",
    "    m = len(y)\n",
    "    cost = 0\n",
    "    for i in range(m):\n",
    "        cost += compute_loss_logistic(X[i],y[i],w,b)\n",
    "        \n",
    "    cost = cost / m\n",
    "    \n",
    "    return cost"
   ]
  },
  {
   "cell_type": "markdown",
   "metadata": {},
   "source": [
    "Example"
   ]
  },
  {
   "cell_type": "code",
   "execution_count": 95,
   "metadata": {},
   "outputs": [
    {
     "name": "stdout",
     "output_type": "stream",
     "text": [
      "0.36686678640551745\n"
     ]
    }
   ],
   "source": [
    "X_train = np.array([[0.5, 1.5], [1,1], [1.5, 0.5], [3, 0.5], [2, 2], [1, 2.5]])  #(m,n)\n",
    "y_train = np.array([0, 0, 0, 1, 1, 1])                                           #(m,)\n",
    "w_tmp = np.array([1,1])\n",
    "b_tmp = -3\n",
    "print(compute_cost_logistic(X_train, y_train, w_tmp, b_tmp))"
   ]
  },
  {
   "cell_type": "markdown",
   "metadata": {},
   "source": [
    "Gradient Descent for Logistic Regression"
   ]
  },
  {
   "cell_type": "code",
   "execution_count": 115,
   "metadata": {},
   "outputs": [],
   "source": [
    "def compute_gradient_logistic(X, y, w, b): \n",
    "    \"\"\"\n",
    "    Computes the gradient for logistic regression \n",
    " \n",
    "    Args:\n",
    "      X (ndarray (m,n): Data, m examples with n features\n",
    "      y (ndarray (m,)): target values\n",
    "      w (ndarray (n,)): model parameters  \n",
    "      b (scalar)      : model parameter\n",
    "    Returns\n",
    "      dj_dw (ndarray (n,)): The gradient of the cost w.r.t. the parameters w. \n",
    "      dj_db (scalar)      : The gradient of the cost w.r.t. the parameter b. \n",
    "    \"\"\"\n",
    "    m, n = X.shape\n",
    "    \n",
    "    cost_w = np.zeros((n,))\n",
    "    cost_b = 0\n",
    "    \n",
    "    for i in range(m):\n",
    "        f = sigmoid(np.dot(w,X[i])+b)\n",
    "        loss = f - y[i]\n",
    "        \n",
    "        for j in range(n):\n",
    "          cost_w[j] += loss*X[i,j]\n",
    "            \n",
    "        cost_b += loss\n",
    "    \n",
    "    dj_dw = cost_w / m\n",
    "    dj_db = cost_b / m\n",
    "    \n",
    "    return dj_db, dj_dw"
   ]
  },
  {
   "cell_type": "markdown",
   "metadata": {},
   "source": [
    "Example"
   ]
  },
  {
   "cell_type": "code",
   "execution_count": 116,
   "metadata": {},
   "outputs": [
    {
     "name": "stdout",
     "output_type": "stream",
     "text": [
      "dj_db: 0.49861806546328574\n",
      "dj_dw: [0.498333393278696, 0.49883942983996693]\n"
     ]
    }
   ],
   "source": [
    "X_tmp = np.array([[0.5, 1.5], [1,1], [1.5, 0.5], [3, 0.5], [2, 2], [1, 2.5]])\n",
    "y_tmp = np.array([0, 0, 0, 1, 1, 1])\n",
    "w_tmp = np.array([2.,3.])\n",
    "b_tmp = 1.\n",
    "dj_db_tmp, dj_dw_tmp = compute_gradient_logistic(X_tmp, y_tmp, w_tmp, b_tmp)\n",
    "print(f\"dj_db: {dj_db_tmp}\" )\n",
    "print(f\"dj_dw: {dj_dw_tmp.tolist()}\" )"
   ]
  },
  {
   "cell_type": "code",
   "execution_count": 117,
   "metadata": {},
   "outputs": [],
   "source": [
    "def gradient_descent(X, y, w_in, b_in, alpha, num_iters): \n",
    "    \"\"\"\n",
    "    Performs batch gradient descent\n",
    "    \n",
    "    Args:\n",
    "      X (ndarray (m,n)   : Data, m examples with n features\n",
    "      y (ndarray (m,))   : target values\n",
    "      w_in (ndarray (n,)): Initial values of model parameters  \n",
    "      b_in (scalar)      : Initial values of model parameter\n",
    "      alpha (float)      : Learning rate\n",
    "      num_iters (scalar) : number of iterations to run gradient descent\n",
    "      \n",
    "    Returns:\n",
    "      w (ndarray (n,))   : Updated values of parameters\n",
    "      b (scalar)         : Updated value of parameter \n",
    "    \"\"\"\n",
    "\n",
    "    w = w_in\n",
    "    b = b_in\n",
    "    \n",
    "    for i in range(num_iters):\n",
    "        \n",
    "        dj_db, dj_dw = compute_gradient_logistic(X,y,w,b)\n",
    "        \n",
    "        b = b - alpha * dj_db\n",
    "        w = w - alpha * dj_dw\n",
    "    \n",
    "    return w, b"
   ]
  },
  {
   "cell_type": "markdown",
   "metadata": {},
   "source": [
    "Example"
   ]
  },
  {
   "cell_type": "code",
   "execution_count": 119,
   "metadata": {},
   "outputs": [
    {
     "name": "stdout",
     "output_type": "stream",
     "text": [
      "\n",
      "updated parameters: w:[5.28123029 5.07815608], b:-14.222409982019837\n"
     ]
    }
   ],
   "source": [
    "w_tmp  = np.zeros_like(X_train[0])\n",
    "b_tmp  = 0.\n",
    "alph = 0.1\n",
    "iters = 10000\n",
    "\n",
    "w_out, b_out = gradient_descent(X_train, y_train, w_tmp, b_tmp, alph, iters) \n",
    "print(f\"\\nupdated parameters: w:{w_out}, b:{b_out}\")"
   ]
  },
  {
   "cell_type": "markdown",
   "metadata": {},
   "source": [
    "# 9 - Logistic Regression using Scikit-Learn"
   ]
  },
  {
   "cell_type": "code",
   "execution_count": 123,
   "metadata": {},
   "outputs": [
    {
     "name": "stdout",
     "output_type": "stream",
     "text": [
      "Prediction on training set: [0 0 0 1 1 1]\n",
      "Accuracy on training set: 1.0\n"
     ]
    }
   ],
   "source": [
    "from sklearn.linear_model import LogisticRegression\n",
    "\n",
    "X = np.array([[0.5, 1.5], [1,1], [1.5, 0.5], [3, 0.5], [2, 2], [1, 2.5]])\n",
    "y = np.array([0, 0, 0, 1, 1, 1])\n",
    "\n",
    "lr_model = LogisticRegression()\n",
    "lr_model.fit(X, y) # Fit the model\n",
    "\n",
    "y_pred = lr_model.predict(X) # Make Predictions\n",
    "\n",
    "print(\"Prediction on training set:\", y_pred)\n",
    "\n",
    "print(\"Accuracy on training set:\", lr_model.score(X, y)) # Calculate accuracy"
   ]
  },
  {
   "cell_type": "markdown",
   "metadata": {},
   "source": [
    "# 10 - Regularized Cost and Gradient to solve Overfitting"
   ]
  },
  {
   "cell_type": "code",
   "execution_count": 141,
   "metadata": {},
   "outputs": [],
   "source": [
    "def compute_cost_linear_reg(X, y, w, b, lambda_ = 1):\n",
    "    \"\"\"\n",
    "    Computes the cost over all examples\n",
    "    Args:\n",
    "      X (ndarray (m,n): Data, m examples with n features\n",
    "      y (ndarray (m,)): target values\n",
    "      w (ndarray (n,)): model parameters  \n",
    "      b (scalar)      : model parameter\n",
    "      lambda_ (scalar): Controls amount of regularization\n",
    "    Returns:\n",
    "      total_cost (scalar):  cost \n",
    "    \"\"\"\n",
    "    m = X.shape[0]\n",
    "    n = len(w)\n",
    "    \n",
    "    cost = compute_cost_multiple_features(X,y,w,b)\n",
    "    reg_cost = 0\n",
    "    \n",
    "    for i in range(n):\n",
    "      reg_cost += w[i]**2\n",
    "    \n",
    "    reg_cost = reg_cost * (lambda_/(2*m))\n",
    "    total_cost = cost + reg_cost\n",
    "    \n",
    "    return total_cost"
   ]
  },
  {
   "cell_type": "markdown",
   "metadata": {},
   "source": [
    "Example"
   ]
  },
  {
   "cell_type": "code",
   "execution_count": 142,
   "metadata": {},
   "outputs": [
    {
     "name": "stdout",
     "output_type": "stream",
     "text": [
      "Regularized cost: 0.07917239320214277\n"
     ]
    }
   ],
   "source": [
    "np.random.seed(1)\n",
    "X_tmp = np.random.rand(5,6)\n",
    "y_tmp = np.array([0,1,0,1,0])\n",
    "w_tmp = np.random.rand(X_tmp.shape[1]).reshape(-1,)-0.5\n",
    "b_tmp = 0.5\n",
    "lambda_tmp = 0.7\n",
    "cost_tmp = compute_cost_linear_reg(X_tmp, y_tmp, w_tmp, b_tmp, lambda_tmp)\n",
    "\n",
    "print(\"Regularized cost:\", cost_tmp)"
   ]
  },
  {
   "cell_type": "code",
   "execution_count": 146,
   "metadata": {},
   "outputs": [],
   "source": [
    "def compute_cost_logistic_reg(X, y, w, b, lambda_ = 1):\n",
    "    \"\"\"\n",
    "    Computes the cost over all examples\n",
    "    Args:\n",
    "    Args:\n",
    "      X (ndarray (m,n): Data, m examples with n features\n",
    "      y (ndarray (m,)): target values\n",
    "      w (ndarray (n,)): model parameters  \n",
    "      b (scalar)      : model parameter\n",
    "      lambda_ (scalar): Controls amount of regularization\n",
    "    Returns:\n",
    "      total_cost (scalar):  cost \n",
    "    \"\"\"\n",
    "    m, n = X.shape\n",
    "    \n",
    "    cost = compute_cost_logistic(X,y,w,b)\n",
    "    reg_cost = 0\n",
    "    \n",
    "    for i in range(n):\n",
    "      reg_cost += w[i]**2\n",
    "    \n",
    "    reg_cost = reg_cost * (lambda_/(2*m))\n",
    "    total_cost = cost + reg_cost\n",
    "    \n",
    "    return total_cost\n",
    "    "
   ]
  },
  {
   "cell_type": "markdown",
   "metadata": {},
   "source": [
    "Example"
   ]
  },
  {
   "cell_type": "code",
   "execution_count": 147,
   "metadata": {},
   "outputs": [
    {
     "name": "stdout",
     "output_type": "stream",
     "text": [
      "Regularized cost: 0.6850849138741673\n"
     ]
    }
   ],
   "source": [
    "np.random.seed(1)\n",
    "X_tmp = np.random.rand(5,6)\n",
    "y_tmp = np.array([0,1,0,1,0])\n",
    "w_tmp = np.random.rand(X_tmp.shape[1]).reshape(-1,)-0.5\n",
    "b_tmp = 0.5\n",
    "lambda_tmp = 0.7\n",
    "cost_tmp = compute_cost_logistic_reg(X_tmp, y_tmp, w_tmp, b_tmp, lambda_tmp)\n",
    "\n",
    "print(\"Regularized cost:\", cost_tmp)"
   ]
  },
  {
   "cell_type": "code",
   "execution_count": 156,
   "metadata": {},
   "outputs": [],
   "source": [
    "def compute_gradient_linear_reg(X, y, w, b, lambda_): \n",
    "    \"\"\"\n",
    "    Computes the gradient for linear regression \n",
    "    Args:\n",
    "      X (ndarray (m,n): Data, m examples with n features\n",
    "      y (ndarray (m,)): target values\n",
    "      w (ndarray (n,)): model parameters  \n",
    "      b (scalar)      : model parameter\n",
    "      lambda_ (scalar): Controls amount of regularization\n",
    "      \n",
    "    Returns:\n",
    "      dj_dw (ndarray (n,)): The gradient of the cost w.r.t. the parameters w. \n",
    "      dj_db (scalar):       The gradient of the cost w.r.t. the parameter b. \n",
    "    \"\"\"\n",
    "    m = X.shape[0]\n",
    "    \n",
    "    dj_db , dj_dw = compute_gradient_multiple_features(X,y,w,b)\n",
    "    \n",
    "    dj_dw += (lambda_ / m) * w\n",
    "    \n",
    "    return dj_db, dj_dw\n",
    "    "
   ]
  },
  {
   "cell_type": "markdown",
   "metadata": {},
   "source": [
    "Example"
   ]
  },
  {
   "cell_type": "code",
   "execution_count": 157,
   "metadata": {},
   "outputs": [
    {
     "name": "stdout",
     "output_type": "stream",
     "text": [
      "dj_db: 0.6648774569425726\n",
      "Regularized dj_dw:\n",
      " [0.29653214748822276, 0.4911679625918033, 0.21645877535865857]\n"
     ]
    }
   ],
   "source": [
    "np.random.seed(1)\n",
    "X_tmp = np.random.rand(5,3)\n",
    "y_tmp = np.array([0,1,0,1,0])\n",
    "w_tmp = np.random.rand(X_tmp.shape[1])\n",
    "b_tmp = 0.5\n",
    "lambda_tmp = 0.7\n",
    "dj_db_tmp, dj_dw_tmp =  compute_gradient_linear_reg(X_tmp, y_tmp, w_tmp, b_tmp, lambda_tmp)\n",
    "\n",
    "print(f\"dj_db: {dj_db_tmp}\", )\n",
    "print(f\"Regularized dj_dw:\\n {dj_dw_tmp.tolist()}\", )"
   ]
  },
  {
   "cell_type": "code",
   "execution_count": 158,
   "metadata": {},
   "outputs": [],
   "source": [
    "def compute_gradient_logistic_reg(X, y, w, b, lambda_): \n",
    "    \"\"\"\n",
    "    Computes the gradient for linear regression \n",
    " \n",
    "    Args:\n",
    "      X (ndarray (m,n): Data, m examples with n features\n",
    "      y (ndarray (m,)): target values\n",
    "      w (ndarray (n,)): model parameters  \n",
    "      b (scalar)      : model parameter\n",
    "      lambda_ (scalar): Controls amount of regularization\n",
    "    Returns\n",
    "      dj_dw (ndarray Shape (n,)): The gradient of the cost w.r.t. the parameters w. \n",
    "      dj_db (scalar)            : The gradient of the cost w.r.t. the parameter b. \n",
    "    \"\"\"\n",
    "    m = X.shape[0]\n",
    "    \n",
    "    dj_db , dj_dw = compute_gradient_logistic(X,y,w,b)\n",
    "    \n",
    "    dj_dw += (lambda_ / m) * w\n",
    "    \n",
    "    return dj_db, dj_dw\n",
    "    "
   ]
  },
  {
   "cell_type": "markdown",
   "metadata": {},
   "source": [
    "Example"
   ]
  },
  {
   "cell_type": "code",
   "execution_count": 159,
   "metadata": {},
   "outputs": [
    {
     "name": "stdout",
     "output_type": "stream",
     "text": [
      "dj_db: 0.341798994972791\n",
      "Regularized dj_dw:\n",
      " [0.17380012933994293, 0.32007507881566943, 0.10776313396851499]\n"
     ]
    }
   ],
   "source": [
    "np.random.seed(1)\n",
    "X_tmp = np.random.rand(5,3)\n",
    "y_tmp = np.array([0,1,0,1,0])\n",
    "w_tmp = np.random.rand(X_tmp.shape[1])\n",
    "b_tmp = 0.5\n",
    "lambda_tmp = 0.7\n",
    "dj_db_tmp, dj_dw_tmp =  compute_gradient_logistic_reg(X_tmp, y_tmp, w_tmp, b_tmp, lambda_tmp)\n",
    "\n",
    "print(f\"dj_db: {dj_db_tmp}\", )\n",
    "print(f\"Regularized dj_dw:\\n {dj_dw_tmp.tolist()}\", )"
   ]
  },
  {
   "cell_type": "code",
   "execution_count": null,
   "metadata": {},
   "outputs": [],
   "source": []
  }
 ],
 "metadata": {
  "kernelspec": {
   "display_name": "Python 3",
   "language": "python",
   "name": "python3"
  },
  "language_info": {
   "codemirror_mode": {
    "name": "ipython",
    "version": 3
   },
   "file_extension": ".py",
   "mimetype": "text/x-python",
   "name": "python",
   "nbconvert_exporter": "python",
   "pygments_lexer": "ipython3",
   "version": "3.8.6"
  }
 },
 "nbformat": 4,
 "nbformat_minor": 2
}
